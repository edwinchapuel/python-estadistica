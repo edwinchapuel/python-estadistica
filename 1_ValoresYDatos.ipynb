{
  "nbformat": 4,
  "nbformat_minor": 0,
  "metadata": {
    "colab": {
      "name": "1_ValoresYDatos.ipynb",
      "provenance": [],
      "collapsed_sections": []
    },
    "kernelspec": {
      "name": "python3",
      "display_name": "Python 3"
    }
  },
  "cells": [
    {
      "cell_type": "markdown",
      "metadata": {
        "id": "47LKuStuY11d",
        "colab_type": "text"
      },
      "source": [
        "# 1. VALORES Y TIPO DE DATOS\n",
        "\n",
        "Tipos de datos:\n",
        "- Enteros (int) | Números enteros\n",
        "- Reales (float) | con punto flotante\n",
        "- Textos (string) | cadenas de texto\n",
        "- Booleanos (bool) | True o Falso\n",
        "\n",
        "Las variables contantes se escriben en mayúscula, por ejemplo:\n",
        "PI = 3.1416"
      ]
    },
    {
      "cell_type": "code",
      "metadata": {
        "id": "X3lgVyd-ZM9Y",
        "colab_type": "code",
        "colab": {}
      },
      "source": [
        "# Variables\n",
        "edad = 22\n",
        "altura = 1.74\n",
        "nombre = \"Miguel\"\n",
        "mayorEdad = True\n",
        "PI = 3.1416"
      ],
      "execution_count": 0,
      "outputs": []
    },
    {
      "cell_type": "markdown",
      "metadata": {
        "id": "e4NOU7rMaOgu",
        "colab_type": "text"
      },
      "source": [
        "¿Cómo verificamos qué tipo de dato es?\n",
        "\n",
        "Utilizamos la función: `type()`"
      ]
    },
    {
      "cell_type": "code",
      "metadata": {
        "id": "PrvBrf8rahEo",
        "colab_type": "code",
        "colab": {}
      },
      "source": [
        "#Variable entera\n",
        "type(edad)"
      ],
      "execution_count": 0,
      "outputs": []
    },
    {
      "cell_type": "code",
      "metadata": {
        "id": "Q3ILfGmIaweP",
        "colab_type": "code",
        "colab": {}
      },
      "source": [
        "#Variable flotante\n",
        "type(altura)"
      ],
      "execution_count": 0,
      "outputs": []
    },
    {
      "cell_type": "code",
      "metadata": {
        "id": "FtI-AfHhawyE",
        "colab_type": "code",
        "colab": {}
      },
      "source": [
        "#Variable cadena\n",
        "type(nombre)"
      ],
      "execution_count": 0,
      "outputs": []
    },
    {
      "cell_type": "code",
      "metadata": {
        "id": "aevVagjoaxEH",
        "colab_type": "code",
        "colab": {}
      },
      "source": [
        "#Variable booleana\n",
        "type(mayorEdad)"
      ],
      "execution_count": 0,
      "outputs": []
    },
    {
      "cell_type": "code",
      "metadata": {
        "id": "Tlr2LgOldOms",
        "colab_type": "code",
        "colab": {}
      },
      "source": [
        "#Variable constante\n",
        "type(PI)"
      ],
      "execution_count": 0,
      "outputs": []
    },
    {
      "cell_type": "markdown",
      "metadata": {
        "id": "eHnA5NBMdgBi",
        "colab_type": "text"
      },
      "source": [
        "# 2. OPERADORES"
      ]
    },
    {
      "cell_type": "markdown",
      "metadata": {
        "id": "H95bzKypdyN1",
        "colab_type": "text"
      },
      "source": [
        "2.1. Operadores de comparación\n",
        "\n",
        "\n",
        "* `==` compara si dos valores son iguales\n",
        "* `!=` compara si dos valores son diferentes\n",
        "* `>` Mayor que\n",
        "* `<` Menor que\n",
        "* `>=` Mayor o igual que\n",
        "* `<=` Menor o igual que"
      ]
    },
    {
      "cell_type": "code",
      "metadata": {
        "id": "SiixhCIVeOoN",
        "colab_type": "code",
        "colab": {}
      },
      "source": [
        "# Operador ==\n",
        "2 == 1"
      ],
      "execution_count": 0,
      "outputs": []
    },
    {
      "cell_type": "code",
      "metadata": {
        "id": "9q6IyJzgg571",
        "colab_type": "code",
        "colab": {}
      },
      "source": [
        "# Operador !=\n",
        "4 != 3"
      ],
      "execution_count": 0,
      "outputs": []
    },
    {
      "cell_type": "code",
      "metadata": {
        "id": "7imVVOAYhiFd",
        "colab_type": "code",
        "colab": {}
      },
      "source": [
        "# Operador >\n",
        "3>4"
      ],
      "execution_count": 0,
      "outputs": []
    },
    {
      "cell_type": "code",
      "metadata": {
        "id": "2dPIWIzqg5UW",
        "colab_type": "code",
        "colab": {}
      },
      "source": [
        "# Operador <\n",
        "5 < 1"
      ],
      "execution_count": 0,
      "outputs": []
    },
    {
      "cell_type": "code",
      "metadata": {
        "id": "SzQuYSf4hDxl",
        "colab_type": "code",
        "colab": {}
      },
      "source": [
        "# Operador >=\n",
        "3.4 >= 3"
      ],
      "execution_count": 0,
      "outputs": []
    },
    {
      "cell_type": "code",
      "metadata": {
        "id": "ALwrkjSEhEHZ",
        "colab_type": "code",
        "colab": {}
      },
      "source": [
        "# Operador <=\n",
        "4 <= 4"
      ],
      "execution_count": 0,
      "outputs": []
    },
    {
      "cell_type": "markdown",
      "metadata": {
        "id": "AVhHmGguhv7R",
        "colab_type": "text"
      },
      "source": [
        "2.2 Operadores lógicos\n",
        "* and\n",
        "* or\n",
        "* not\n",
        "\n",
        "*NOTA: Se escriben en mínuscula and, or y not*\n",
        "\n",
        "![TABLA DE VERDAD and](https://www.fing.edu.uy/inco/cursos/fpr/wiki/images/7/7a/Tablaand.png)\n",
        "![TABLA DE VERDAD or](https://www.fing.edu.uy/inco/cursos/fpr/wiki/images/b/b8/Tablaor.png)\n",
        "![TABLA DE VERDAD not](https://www.fing.edu.uy/inco/cursos/fpr/wiki/images/4/41/Tablanot.png)\n",
        "\n",
        "\n",
        "\n",
        "\n"
      ]
    },
    {
      "cell_type": "code",
      "metadata": {
        "id": "njsUb8tZkN9-",
        "colab_type": "code",
        "outputId": "05365c0d-1852-4b58-e84f-bd4172a025ef",
        "colab": {
          "base_uri": "https://localhost:8080/",
          "height": 34
        }
      },
      "source": [
        "x = 5\n",
        "y = 20\n",
        "z= 15\n"
      ],
      "execution_count": 0,
      "outputs": [
        {
          "output_type": "execute_result",
          "data": {
            "text/plain": [
              "True"
            ]
          },
          "metadata": {
            "tags": []
          },
          "execution_count": 21
        }
      ]
    },
    {
      "cell_type": "code",
      "metadata": {
        "id": "MiPI67VBmO2j",
        "colab_type": "code",
        "outputId": "091ccd9f-5ee6-4941-ecdc-1a418cf42203",
        "colab": {
          "base_uri": "https://localhost:8080/",
          "height": 34
        }
      },
      "source": [
        "# Operador and: True and True\n",
        "y>x and y == x+z"
      ],
      "execution_count": 0,
      "outputs": [
        {
          "output_type": "execute_result",
          "data": {
            "text/plain": [
              "True"
            ]
          },
          "metadata": {
            "tags": []
          },
          "execution_count": 22
        }
      ]
    },
    {
      "cell_type": "code",
      "metadata": {
        "id": "NqJpRaVxmWaj",
        "colab_type": "code",
        "colab": {}
      },
      "source": [
        "# Operador or: False and True\n",
        "y == z or "
      ],
      "execution_count": 0,
      "outputs": []
    },
    {
      "cell_type": "code",
      "metadata": {
        "id": "PhZx8ebdnLR-",
        "colab_type": "code",
        "outputId": "fc667865-1a6a-42be-a5a0-7ebc00819cd6",
        "colab": {
          "base_uri": "https://localhost:8080/",
          "height": 34
        }
      },
      "source": [
        "# Operador not: \n",
        "not x>20"
      ],
      "execution_count": 0,
      "outputs": [
        {
          "output_type": "execute_result",
          "data": {
            "text/plain": [
              "True"
            ]
          },
          "metadata": {
            "tags": []
          },
          "execution_count": 24
        }
      ]
    },
    {
      "cell_type": "markdown",
      "metadata": {
        "id": "P8DBP7Son2wc",
        "colab_type": "text"
      },
      "source": [
        "2.3. Operadores matemáticos\n",
        "\n",
        "* `+` Suma \n",
        "* `-` Resta \n",
        "* `*` Multiplicación \n",
        "* `/` División\n",
        "* `**` Exponente\n",
        "* `//` División entera\n",
        "* `%`  Módulo"
      ]
    },
    {
      "cell_type": "code",
      "metadata": {
        "id": "BAATuaY8qTaK",
        "colab_type": "code",
        "colab": {}
      },
      "source": [
        "x = 9\n",
        "y = 2"
      ],
      "execution_count": 0,
      "outputs": []
    },
    {
      "cell_type": "code",
      "metadata": {
        "id": "k68nGu88qbIH",
        "colab_type": "code",
        "colab": {}
      },
      "source": [
        "# SUMA\n",
        "resultado = x + y\n",
        "print(resultado)"
      ],
      "execution_count": 0,
      "outputs": []
    },
    {
      "cell_type": "code",
      "metadata": {
        "id": "4KjxL0dIqg5c",
        "colab_type": "code",
        "colab": {}
      },
      "source": [
        "# RESTA\n",
        "resultado = x - y\n",
        "print(resultado)"
      ],
      "execution_count": 0,
      "outputs": []
    },
    {
      "cell_type": "code",
      "metadata": {
        "id": "_4iB1TiMqn7r",
        "colab_type": "code",
        "colab": {}
      },
      "source": [
        "# MULTIPLICACIÓN\n",
        "resultado = x * y\n",
        "print(resultado)"
      ],
      "execution_count": 0,
      "outputs": []
    },
    {
      "cell_type": "code",
      "metadata": {
        "id": "6GDb-hMVqsDe",
        "colab_type": "code",
        "colab": {}
      },
      "source": [
        "# DIVISIÓN\n",
        "resultado = (x-y) / y\n",
        "print(resultado)"
      ],
      "execution_count": 0,
      "outputs": []
    },
    {
      "cell_type": "code",
      "metadata": {
        "id": "k99YK5RiqwaK",
        "colab_type": "code",
        "colab": {}
      },
      "source": [
        "# EXPONENTE\n",
        "resultado = x ** y\n",
        "print(resultado)"
      ],
      "execution_count": 0,
      "outputs": []
    },
    {
      "cell_type": "code",
      "metadata": {
        "id": "4D1RlelZq0H2",
        "colab_type": "code",
        "outputId": "e51f2b1d-de9d-443c-f73e-bc74ae745992",
        "colab": {
          "base_uri": "https://localhost:8080/",
          "height": 34
        }
      },
      "source": [
        "# DIVISIÓN ENTERA\n",
        "resultado = x // y\n",
        "print(resultado)"
      ],
      "execution_count": 0,
      "outputs": [
        {
          "output_type": "stream",
          "text": [
            "4\n"
          ],
          "name": "stdout"
        }
      ]
    },
    {
      "cell_type": "code",
      "metadata": {
        "id": "ks0bng69rMMQ",
        "colab_type": "code",
        "outputId": "cbd8e247-796f-49e2-f14b-65771450ea79",
        "colab": {
          "base_uri": "https://localhost:8080/",
          "height": 34
        }
      },
      "source": [
        "# MÓDULO DE LA DIVISIÓN, el residuo de la división\n",
        "resultado = x % y\n",
        "print(resultado)"
      ],
      "execution_count": 0,
      "outputs": [
        {
          "output_type": "stream",
          "text": [
            "1\n"
          ],
          "name": "stdout"
        }
      ]
    },
    {
      "cell_type": "code",
      "metadata": {
        "id": "sBGVXSy5j3UH",
        "colab_type": "code",
        "colab": {}
      },
      "source": [
        "#EJERCICIO BÁSICO: variables y operadores\n",
        "peras = 3\n",
        "manzanas = 4\n",
        "naranjas = \"dos\"\n",
        "canasta = 0"
      ],
      "execution_count": 0,
      "outputs": []
    },
    {
      "cell_type": "code",
      "metadata": {
        "id": "5R9omcmOkALd",
        "colab_type": "code",
        "outputId": "f731e518-3ac0-4b51-e211-32a02966c1e2",
        "colab": {
          "base_uri": "https://localhost:8080/",
          "height": 34
        }
      },
      "source": [
        "canasta = peras + manzanas\n",
        "print(canasta)"
      ],
      "execution_count": 0,
      "outputs": [
        {
          "output_type": "stream",
          "text": [
            "7\n"
          ],
          "name": "stdout"
        }
      ]
    },
    {
      "cell_type": "code",
      "metadata": {
        "id": "novAlH6Tj-sL",
        "colab_type": "code",
        "colab": {}
      },
      "source": [
        "canasta = manzanas + naranjas\n",
        "print(canasta)"
      ],
      "execution_count": 0,
      "outputs": []
    },
    {
      "cell_type": "code",
      "metadata": {
        "id": "w5ZW8438mT7O",
        "colab_type": "code",
        "outputId": "dcd0ff0d-5573-45ce-d294-0a2613f9ff4e",
        "colab": {
          "base_uri": "https://localhost:8080/",
          "height": 51
        }
      },
      "source": [
        "#EJERCICIO: área y perimetros de un circulo\n",
        "diametro = 6\n",
        "PI= 3.14159265\n",
        "\n",
        "perimetroCirculo = diametro*PI\n",
        "# radio=diametro/2\n",
        "areaCirculo = PI * (diametro/2)**2\n",
        "print(\"El perimetro es:\", perimetroCirculo)\n",
        "print(\"El área es:\", areaCirculo)\n"
      ],
      "execution_count": 0,
      "outputs": [
        {
          "output_type": "stream",
          "text": [
            "El perimetro es: 18.849555900000002\n",
            "El área es: 28.27433385\n"
          ],
          "name": "stdout"
        }
      ]
    },
    {
      "cell_type": "code",
      "metadata": {
        "id": "zB3cKjEV22D4",
        "colab_type": "code",
        "colab": {}
      },
      "source": [
        "#CONVERSIONES DE TIPOS DE DATOS\n",
        "edad = 18\n",
        "edad = str(18)\n",
        "type(edad)\n",
        "edad2 = edad*2\n",
        "print(edad2)"
      ],
      "execution_count": 0,
      "outputs": []
    },
    {
      "cell_type": "code",
      "metadata": {
        "id": "STurKuYX3jr_",
        "colab_type": "code",
        "colab": {}
      },
      "source": [
        "cadena = \"15.4\"\n",
        "cadena = float(cadena)\n",
        "type(cadena)\n",
        "print(cadena*2)"
      ],
      "execution_count": 0,
      "outputs": []
    },
    {
      "cell_type": "code",
      "metadata": {
        "id": "vvu__WtiNd7a",
        "colab_type": "code",
        "colab": {}
      },
      "source": [
        "nombre = input(\"Escriba su nombre:\")\n",
        "edad= int(input(\"Escriba su edad:\"))\n",
        "mayorEdad = edad>18\n",
        "print(nombre, \"¿Es mayor de edad?\", mayorEdad)\n"
      ],
      "execution_count": 0,
      "outputs": []
    }
  ]
}